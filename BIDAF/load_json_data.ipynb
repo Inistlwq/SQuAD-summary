{
 "cells": [
  {
   "cell_type": "code",
   "execution_count": 6,
   "metadata": {
    "collapsed": true
   },
   "outputs": [
    {
     "name": "stderr",
     "output_type": "stream",
     "text": [
      "\r  0%|          | 0/48 [00:00<?, ?it/s]"
     ]
    },
    {
     "name": "stdout",
     "output_type": "stream",
     "text": [
      "[nltk_data] Downloading package punkt to /Users/xiongfei/nltk_data...\n[nltk_data]   Package punkt is already up-to-date!\n"
     ]
    },
    {
     "name": "stderr",
     "output_type": "stream",
     "text": [
      "\r  2%|▏         | 1/48 [00:01<00:57,  1.22s/it]"
     ]
    },
    {
     "name": "stderr",
     "output_type": "stream",
     "text": [
      "\r  4%|▍         | 2/48 [00:01<00:46,  1.00s/it]"
     ]
    },
    {
     "name": "stderr",
     "output_type": "stream",
     "text": [
      "\r  6%|▋         | 3/48 [00:01<00:34,  1.30it/s]"
     ]
    },
    {
     "name": "stderr",
     "output_type": "stream",
     "text": [
      "\r  8%|▊         | 4/48 [00:02<00:33,  1.32it/s]"
     ]
    },
    {
     "name": "stderr",
     "output_type": "stream",
     "text": [
      "\r 10%|█         | 5/48 [00:02<00:26,  1.61it/s]"
     ]
    },
    {
     "name": "stderr",
     "output_type": "stream",
     "text": [
      "\r 12%|█▎        | 6/48 [00:03<00:23,  1.77it/s]"
     ]
    },
    {
     "name": "stderr",
     "output_type": "stream",
     "text": [
      "\r 15%|█▍        | 7/48 [00:04<00:26,  1.56it/s]"
     ]
    },
    {
     "name": "stderr",
     "output_type": "stream",
     "text": [
      "\r 17%|█▋        | 8/48 [00:04<00:21,  1.90it/s]"
     ]
    },
    {
     "name": "stderr",
     "output_type": "stream",
     "text": [
      "\r 19%|█▉        | 9/48 [00:04<00:16,  2.34it/s]"
     ]
    },
    {
     "name": "stderr",
     "output_type": "stream",
     "text": [
      "\r 21%|██        | 10/48 [00:04<00:13,  2.74it/s]"
     ]
    },
    {
     "name": "stderr",
     "output_type": "stream",
     "text": [
      "\r 23%|██▎       | 11/48 [00:05<00:13,  2.67it/s]"
     ]
    },
    {
     "name": "stderr",
     "output_type": "stream",
     "text": [
      "\r 25%|██▌       | 12/48 [00:05<00:13,  2.60it/s]"
     ]
    },
    {
     "name": "stderr",
     "output_type": "stream",
     "text": [
      "\r 27%|██▋       | 13/48 [00:06<00:16,  2.17it/s]"
     ]
    },
    {
     "name": "stderr",
     "output_type": "stream",
     "text": [
      "\r 29%|██▉       | 14/48 [00:06<00:13,  2.46it/s]"
     ]
    },
    {
     "name": "stderr",
     "output_type": "stream",
     "text": [
      "\r 31%|███▏      | 15/48 [00:07<00:15,  2.14it/s]"
     ]
    },
    {
     "name": "stderr",
     "output_type": "stream",
     "text": [
      "\r 33%|███▎      | 16/48 [00:08<00:19,  1.64it/s]"
     ]
    },
    {
     "name": "stderr",
     "output_type": "stream",
     "text": [
      "\r 35%|███▌      | 17/48 [00:08<00:15,  1.96it/s]"
     ]
    },
    {
     "name": "stderr",
     "output_type": "stream",
     "text": [
      "\r 38%|███▊      | 18/48 [00:08<00:13,  2.14it/s]"
     ]
    },
    {
     "name": "stderr",
     "output_type": "stream",
     "text": [
      "\r 40%|███▉      | 19/48 [00:09<00:11,  2.45it/s]"
     ]
    },
    {
     "name": "stderr",
     "output_type": "stream",
     "text": [
      "\r 42%|████▏     | 20/48 [00:09<00:09,  2.89it/s]"
     ]
    },
    {
     "name": "stderr",
     "output_type": "stream",
     "text": [
      "\r 44%|████▍     | 21/48 [00:09<00:08,  3.20it/s]"
     ]
    },
    {
     "name": "stderr",
     "output_type": "stream",
     "text": [
      "\r 46%|████▌     | 22/48 [00:09<00:07,  3.25it/s]"
     ]
    },
    {
     "name": "stderr",
     "output_type": "stream",
     "text": [
      "\r 48%|████▊     | 23/48 [00:10<00:08,  2.81it/s]"
     ]
    },
    {
     "name": "stderr",
     "output_type": "stream",
     "text": [
      "\r 50%|█████     | 24/48 [00:10<00:10,  2.23it/s]"
     ]
    },
    {
     "name": "stderr",
     "output_type": "stream",
     "text": [
      "\r 52%|█████▏    | 25/48 [00:11<00:13,  1.74it/s]"
     ]
    },
    {
     "name": "stderr",
     "output_type": "stream",
     "text": [
      "\r 54%|█████▍    | 26/48 [00:12<00:11,  1.85it/s]"
     ]
    },
    {
     "name": "stderr",
     "output_type": "stream",
     "text": [
      "\r 56%|█████▋    | 27/48 [00:12<00:09,  2.23it/s]"
     ]
    },
    {
     "name": "stderr",
     "output_type": "stream",
     "text": [
      "\r 58%|█████▊    | 28/48 [00:13<00:09,  2.10it/s]"
     ]
    },
    {
     "name": "stderr",
     "output_type": "stream",
     "text": [
      "\r 60%|██████    | 29/48 [00:13<00:09,  2.04it/s]"
     ]
    },
    {
     "name": "stderr",
     "output_type": "stream",
     "text": [
      "\r 62%|██████▎   | 30/48 [00:13<00:07,  2.54it/s]"
     ]
    },
    {
     "name": "stderr",
     "output_type": "stream",
     "text": [
      "\r 65%|██████▍   | 31/48 [00:13<00:05,  2.93it/s]"
     ]
    },
    {
     "name": "stderr",
     "output_type": "stream",
     "text": [
      "\r 67%|██████▋   | 32/48 [00:14<00:04,  3.21it/s]"
     ]
    },
    {
     "name": "stderr",
     "output_type": "stream",
     "text": [
      "\r 69%|██████▉   | 33/48 [00:14<00:04,  3.64it/s]"
     ]
    },
    {
     "name": "stderr",
     "output_type": "stream",
     "text": [
      "\r 71%|███████   | 34/48 [00:14<00:05,  2.75it/s]"
     ]
    },
    {
     "name": "stderr",
     "output_type": "stream",
     "text": [
      "\r 73%|███████▎  | 35/48 [00:15<00:06,  2.14it/s]"
     ]
    },
    {
     "name": "stderr",
     "output_type": "stream",
     "text": [
      "\r 75%|███████▌  | 36/48 [00:16<00:05,  2.23it/s]"
     ]
    },
    {
     "name": "stderr",
     "output_type": "stream",
     "text": [
      "\r 77%|███████▋  | 37/48 [00:16<00:05,  2.13it/s]"
     ]
    },
    {
     "name": "stderr",
     "output_type": "stream",
     "text": [
      "\r 79%|███████▉  | 38/48 [00:17<00:04,  2.16it/s]"
     ]
    },
    {
     "name": "stderr",
     "output_type": "stream",
     "text": [
      "\r 81%|████████▏ | 39/48 [00:17<00:03,  2.61it/s]"
     ]
    },
    {
     "name": "stderr",
     "output_type": "stream",
     "text": [
      "\r 83%|████████▎ | 40/48 [00:17<00:03,  2.21it/s]"
     ]
    },
    {
     "name": "stderr",
     "output_type": "stream",
     "text": [
      "\r 85%|████████▌ | 41/48 [00:18<00:03,  2.33it/s]"
     ]
    },
    {
     "name": "stderr",
     "output_type": "stream",
     "text": [
      "\r 88%|████████▊ | 42/48 [00:18<00:02,  2.20it/s]"
     ]
    },
    {
     "name": "stderr",
     "output_type": "stream",
     "text": [
      "\r 90%|████████▉ | 43/48 [00:19<00:02,  2.39it/s]"
     ]
    },
    {
     "name": "stderr",
     "output_type": "stream",
     "text": [
      "\r 92%|█████████▏| 44/48 [00:19<00:01,  2.55it/s]"
     ]
    },
    {
     "name": "stderr",
     "output_type": "stream",
     "text": [
      "\r 94%|█████████▍| 45/48 [00:19<00:01,  2.23it/s]"
     ]
    },
    {
     "name": "stderr",
     "output_type": "stream",
     "text": [
      "\r 96%|█████████▌| 46/48 [00:20<00:00,  2.24it/s]"
     ]
    },
    {
     "name": "stderr",
     "output_type": "stream",
     "text": [
      "\r 98%|█████████▊| 47/48 [00:20<00:00,  2.24it/s]"
     ]
    },
    {
     "name": "stderr",
     "output_type": "stream",
     "text": [
      "\r100%|██████████| 48/48 [00:21<00:00,  2.11it/s]"
     ]
    },
    {
     "name": "stderr",
     "output_type": "stream",
     "text": [
      "\n"
     ]
    }
   ],
   "source": [
    "import json\n",
    "import tqdm\n",
    "import nltk\n",
    "\n",
    "import ssl \n",
    "ssl._create_default_https_context = ssl._create_unverified_context\n",
    "\n",
    "\n",
    "nltk.download('punkt')\n",
    "from collections import Counter\n",
    "from tqdm import tqdm\n",
    "import re\n",
    "from squad.utils import get_word_span, get_word_idx, process_tokens\n",
    "\n",
    "sent_tokenize = nltk.sent_tokenize\n",
    "def word_tokenize(tokens):\n",
    "    return [token.replace(\"''\", '\"').replace(\"``\", '\"') for token in nltk.word_tokenize(tokens)]\n",
    "\n",
    "source_path='dev-v1.1.json'\n",
    "source_data=json.load(open(source_path,'r'))\n",
    "\n",
    "q, cq, y, rx, rcx, ids, idxs = [], [], [], [], [], [], []\n",
    "na = []\n",
    "cy = []\n",
    "x, cx = [], []\n",
    "answerss = []\n",
    "p = []\n",
    "word_counter, char_counter, lower_word_counter = Counter(), Counter(), Counter()\n",
    "for ai, article in enumerate(tqdm(source_data['data'])):\n",
    "    xp, cxp = [], []\n",
    "    pp = []\n",
    "    x.append(xp)\n",
    "    cx.append(cxp)\n",
    "    p.append(pp)\n",
    "    for pi, para in enumerate(article['paragraphs']):\n",
    "        # wordss\n",
    "        context = para['context']\n",
    "        context = context.replace(\"''\", '\" ')\n",
    "        context = context.replace(\"``\", '\" ')\n",
    "        \n",
    "        xi = list(map(word_tokenize, sent_tokenize(context)))\n",
    "        xi = [process_tokens(tokens) for tokens in xi]  # process tokens\n",
    "        # given xi, add chars\n",
    "        cxi = [[list(xijk) for xijk in xij] for xij in xi]\n",
    "        xp.append(xi)\n",
    "        cxp.append(cxi)\n",
    "        pp.append(context)\n",
    "\n",
    "        for xij in xi:\n",
    "            for xijk in xij:\n",
    "                word_counter[xijk] += len(para['qas'])\n",
    "                lower_word_counter[xijk.lower()] += len(para['qas'])\n",
    "                for xijkl in xijk:\n",
    "                    char_counter[xijkl] += len(para['qas'])\n",
    "\n",
    "        rxi = [ai, pi]\n",
    "        assert len(x) - 1 == ai\n",
    "        assert len(x[ai]) - 1 == pi\n",
    "        for qa in para['qas']:\n",
    "            # get words\n",
    "            qi = word_tokenize(qa['question'])\n",
    "            qi = process_tokens(qi)\n",
    "            cqi = [list(qij) for qij in qi]\n",
    "            yi = []\n",
    "            cyi = []\n",
    "            answers = []\n",
    "            for answer in qa['answers']:\n",
    "                answer_text = answer['text']\n",
    "                answers.append(answer_text)\n",
    "                answer_start = answer['answer_start']\n",
    "                answer_stop = answer_start + len(answer_text)\n",
    "                # TODO : put some function that gives word_start, word_stop here\n",
    "                yi0, yi1 = get_word_span(context, xi, answer_start, answer_stop)\n",
    "                # yi0 = answer['answer_word_start'] or [0, 0]\n",
    "                # yi1 = answer['answer_word_stop'] or [0, 1]\n",
    "                assert len(xi[yi0[0]]) > yi0[1]\n",
    "                assert len(xi[yi1[0]]) >= yi1[1]\n",
    "                w0 = xi[yi0[0]][yi0[1]]\n",
    "                w1 = xi[yi1[0]][yi1[1] - 1]\n",
    "                i0 = get_word_idx(context, xi, yi0)\n",
    "                i1 = get_word_idx(context, xi, (yi1[0], yi1[1] - 1))\n",
    "                cyi0 = answer_start - i0\n",
    "                cyi1 = answer_stop - i1 - 1\n",
    "                # print(answer_text, w0[cyi0:], w1[:cyi1+1])\n",
    "                assert answer_text[0] == w0[cyi0], (answer_text, w0, cyi0)\n",
    "                assert answer_text[-1] == w1[cyi1]\n",
    "                assert cyi0 < 32, (answer_text, w0)\n",
    "                assert cyi1 < 32, (answer_text, w1)\n",
    "\n",
    "                yi.append([yi0, yi1])\n",
    "                cyi.append([cyi0, cyi1])\n",
    "\n",
    "            if len(qa['answers']) == 0:\n",
    "                yi.append([(0, 0), (0, 1)])\n",
    "                cyi.append([0, 1])\n",
    "                na.append(True)\n",
    "            else:\n",
    "                na.append(False)\n",
    "\n",
    "            for qij in qi:\n",
    "                word_counter[qij] += 1\n",
    "                lower_word_counter[qij.lower()] += 1\n",
    "                for qijk in qij:\n",
    "                    char_counter[qijk] += 1\n",
    "\n",
    "            q.append(qi)\n",
    "            cq.append(cqi)\n",
    "            y.append(yi)\n",
    "            cy.append(cyi)\n",
    "            rx.append(rxi)\n",
    "            rcx.append(rxi)\n",
    "            ids.append(qa['id'])\n",
    "            idxs.append(len(idxs))\n",
    "            answerss.append(answers)"
   ]
  },
  {
   "cell_type": "code",
   "execution_count": 37,
   "metadata": {
    "collapsed": false
   },
   "outputs": [
    {
     "data": {
      "text/plain": [
       "[['Denver Broncos', 'Denver Broncos', 'Denver Broncos'],\n ['Carolina Panthers', 'Carolina Panthers', 'Carolina Panthers'],\n ['Santa Clara, California',\n  \"Levi's Stadium\",\n  \"Levi's Stadium in the San Francisco Bay Area at Santa Clara, California.\"],\n ['Denver Broncos', 'Denver Broncos', 'Denver Broncos'],\n ['gold', 'gold', 'gold'],\n ['\"golden anniversary\"', 'gold-themed', '\"golden anniversary'],\n ['February 7, 2016', 'February 7', 'February 7, 2016'],\n ['American Football Conference',\n  'American Football Conference',\n  'American Football Conference'],\n ['\"golden anniversary\"', 'gold-themed', 'gold'],\n ['American Football Conference',\n  'American Football Conference',\n  'American Football Conference'],\n ['February 7, 2016', 'February 7', 'February 7, 2016'],\n ['Denver Broncos', 'Denver Broncos', 'Denver Broncos'],\n [\"Levi's Stadium\",\n  \"Levi's Stadium\",\n  \"Levi's Stadium in the San Francisco Bay Area at Santa Clara\"],\n ['Santa Clara', 'Santa Clara', 'Santa Clara'],\n ['Super Bowl L', 'L', 'Super Bowl L'],\n ['2015', 'the 2015 season', '2015'],\n ['2015', '2016', '2015'],\n ['Santa Clara', 'Santa Clara', 'Santa Clara'],\n [\"Levi's Stadium\", \"Levi's Stadium\", \"Levi's Stadium\"],\n ['24–10', '24–10', '24–10'],\n ['February 7, 2016', 'February 7, 2016', 'February 7, 2016'],\n ['2015', '2016', '2016'],\n ['Denver Broncos', 'Denver Broncos', 'Denver Broncos'],\n ['Carolina Panthers', 'Carolina Panthers', 'Carolina Panthers'],\n ['Denver Broncos', 'Denver Broncos', 'Denver Broncos'],\n ['2015', 'the 2015 season', '2015'],\n ['Denver Broncos', 'Denver Broncos', 'Denver Broncos'],\n ['Santa Clara, California.', \"Levi's Stadium\", \"Levi's Stadium\"],\n ['Super Bowl', 'Super Bowl', 'Super Bowl'],\n ['Denver Broncos', 'Denver Broncos', 'Denver Broncos'],\n ['Cam Newton', 'Cam Newton', 'Cam Newton'],\n ['8', 'eight', 'eight'],\n ['1995', '1995', '1995'],\n ['Arizona Cardinals', 'the Arizona Cardinals', 'Arizona Cardinals'],\n ['New England Patriots', 'the New England Patriots', 'New England Patriots'],\n ['Arizona Cardinals', 'the Arizona Cardinals', 'Arizona Cardinals'],\n ['New England Patriots', 'the New England Patriots', 'New England Patriots'],\n ['New England Patriots', 'the New England Patriots', 'New England Patriots'],\n ['four', 'four', 'four'],\n ['Cam Newton', 'Cam Newton', 'Cam Newton'],\n ['15–1', '15–1', '15–1'],\n ['Cam Newton', 'Cam Newton', 'Cam Newton'],\n ['12–4', '12–4', '12–4'],\n ['4', 'four', 'four'],\n ['New England Patriots', 'the New England Patriots', 'New England Patriots'],\n ['Cam Newton', 'Cam Newton', 'Cam Newton'],\n ['Arizona Cardinals', 'the Arizona Cardinals', 'Arizona Cardinals'],\n ['2', 'second', 'second'],\n ['New England Patriots', 'the New England Patriots', 'New England Patriots'],\n ['Cam Newton', 'Cam Newton', 'Cam Newton'],\n ['New England Patriots', 'the New England Patriots', 'New England Patriots'],\n ['Arizona Cardinals', 'the Arizona Cardinals', 'Arizona Cardinals'],\n ['Cam Newton', 'Cam Newton', 'Cam Newton'],\n ['Arizona Cardinals', 'the Arizona Cardinals', 'Arizona Cardinals'],\n ['1995.', '1995', '1995'],\n ['Von Miller', 'Von Miller', 'Miller'],\n ['2', 'two', 'two'],\n ['Broncos', 'The Broncos', 'Broncos'],\n ['linebacker Von Miller', 'Von Miller', 'Miller'],\n ['five solo tackles', 'five', 'five'],\n [\"Newton was limited by Denver's defense\", 'Newton', 'Newton'],\n ['seven', 'seven', 'seven'],\n ['Von Miller', 'The Broncos', 'Miller'],\n ['three', 'three', 'three'],\n ['two', 'two', 'two'],\n ['Von Miller', 'Von Miller', 'Miller'],\n ['linebacker', 'linebacker', 'linebacker'],\n ['5', 'five', 'five'],\n ['2', 'two', 'two'],\n ['Von Miller', 'Von Miller', 'Von Miller'],\n ['5', 'five', 'five'],\n ['seven', 'seven', 'seven'],\n ['three', 'three', 'three'],\n ['a fumble', 'a fumble', 'fumble'],\n ['Von Miller', 'Von Miller', 'Von Miller'],\n ['linebacker', 'linebacker', 'linebacker'],\n ['seven', 'seven', 'seven'],\n ['three', 'three', 'three'],\n ['Von Miller', 'Von Miller', 'Von Miller'],\n ['five', 'five', 'five'],\n ['CBS', 'CBS', 'CBS'],\n ['$5 million', '$5 million', '$5 million'],\n ['Coldplay', 'Coldplay', 'Coldplay'],\n ['Beyoncé and Bruno Mars',\n  'Beyoncé and Bruno Mars',\n  'Beyoncé and Bruno Mars'],\n ['Super Bowl XLVII', 'Super Bowl XLVII', 'XLVII'],\n ['CBS', 'CBS', 'CBS'],\n ['$5 million', '$5 million', '$5 million'],\n ['Beyoncé', 'Beyoncé', 'Beyoncé'],\n ['Bruno Mars', 'Bruno Mars', 'Mars'],\n ['Coldplay', 'Coldplay', 'Coldplay'],\n ['CBS', 'CBS', 'CBS'],\n ['$5 million', '$5 million', '$5 million'],\n ['Bruno Mars', 'Bruno Mars', 'Bruno Mars,'],\n ['third', 'third', 'third'],\n ['CBS', 'CBS', 'CBS'],\n ['$5 million', '$5 million', '$5 million'],\n ['Coldplay', 'Coldplay', 'Coldplay'],\n ['Beyoncé and Bruno Mars',\n  'Beyoncé and Bruno Mars',\n  'Beyoncé and Bruno Mars'],\n ['CBS', 'CBS', 'CBS'],\n ['Coldplay', 'Coldplay', 'Coldplay'],\n ['Beyoncé and Bruno Mars',\n  'Beyoncé and Bruno Mars',\n  'Beyoncé and Bruno Mars'],\n ['Super Bowl XLVII', 'Super Bowl XLVII', 'Super Bowl XLVII'],\n ['$5 million', '$5 million', '$5 million for a 30-second'],\n ['Coldplay', 'Coldplay', 'Coldplay'],\n ['Beyoncé and Bruno Mars',\n  'Beyoncé and Bruno Mars',\n  'Beyoncé and Bruno Mars'],\n ['Bruno Mars', 'Coldplay', 'Coldplay'],\n ['Roger Goodell', 'Roger Goodell', 'Goodell'],\n ['the 50th Super Bowl', 'the 50th', '50th'],\n ['2012', '2012', '2012'],\n ['Roger Goodell', 'Roger Goodell', 'Goodell'],\n ['early 2012', 'In early 2012', '2012'],\n ['Roger Goodell', 'Roger Goodell', 'Goodell'],\n ['Roger Goodell', 'Roger Goodell', 'Goodell'],\n ['Roger Goodell', 'Roger Goodell', 'Goodell'],\n ['spectacular', 'an important game for us as a league', 'spectacular'],\n ['spectacular', 'spectacular', 'spectacular'],\n ['2012', '2012', '2012'],\n [\"New Orleans' Mercedes-Benz Superdome\",\n  \"New Orleans' Mercedes-Benz Superdome\",\n  'Mercedes-Benz Superdome'],\n [\"Miami's Sun Life Stadium\", \"Miami's Sun Life Stadium\", 'Sun Life Stadium'],\n [\"San Francisco Bay Area's Levi's Stadium\",\n  \"San Francisco Bay Area's Levi's Stadium\",\n  \"Levi's Stadium\"],\n ['Sun Life Stadium', 'Sun Life Stadium', 'Sun Life Stadium'],\n [\"Levi's Stadium\", \"Levi's Stadium\", \"Levi's Stadium\"],\n [\"Levi's Stadium\", \"Levi's Stadium\", \"Levi's Stadium.\"],\n ['Mercedes-Benz Superdome',\n  'Mercedes-Benz Superdome',\n  'Mercedes-Benz Superdome'],\n ['Sun Life Stadium', 'Sun Life Stadium', 'Sun Life Stadium'],\n [\"New Orleans' Mercedes-Benz Superdome, Miami's Sun Life Stadium, and the San Francisco Bay Area's Levi's Stadium\",\n  \"New Orleans' Mercedes-Benz Superdome, Miami's Sun Life Stadium, and the San Francisco Bay Area's Levi's Stadium.\",\n  \"New Orleans' Mercedes-Benz Superdome, Miami's Sun Life Stadium, and the San Francisco Bay Area's Levi's Stadium.\"],\n ['three', 'three', 'three'],\n ['New Orleans', 'New Orleans', \"New Orleans'\"],\n ['Sun Life Stadium', 'Sun Life Stadium', 'Sun Life Stadium'],\n ['San Francisco', 'San Francisco', \"San Francisco Bay Area's\"],\n [\"Levi's Stadium.\", \"Levi's Stadium\", \"Levi's Stadium.\"],\n ['Sun Life Stadium', 'Sun Life Stadium', 'Sun Life Stadium'],\n ['Mercedes-Benz Superdome',\n  'Mercedes-Benz Superdome',\n  'Mercedes-Benz Superdome,'],\n [\"Levi's Stadium.\", \"Levi's Stadium\", \"Levi's Stadium.\"],\n ['October 16, 2012', 'October 16, 2012,', 'October 16, 2012'],\n ['10', '10', '10'],\n ['Super Bowl XLIV', 'Super Bowl XLIV', '2010'],\n ['2010', '2010', '2010'],\n ['1985', '1985', '1985'],\n ['Sun Life Stadium', 'Sun Life Stadium', 'Sun Life Stadium'],\n ['October 16, 2012', 'October 16, 2012', 'October 16, 2012,'],\n ['Stanford Stadium', 'Stanford Stadium', 'Stanford Stadium'],\n ['May 3, 2013', 'May 3, 2013', 'May 3, 2013'],\n ['2010', '2010', '2010'],\n ['two', '10', '10'],\n ['Super Bowl XLIV', 'Super Bowl XLIV', '2010'],\n ['two', 'two', 'two'],\n ['Florida legislature', 'the Florida legislature', 'Florida legislature'],\n ['1985', '1985', '1985'],\n ['New Orleans', 'New Orleans', 'New Orleans'],\n ['October 16, 2012', 'October 16, 2012', 'October 16, 2012,'],\n ['10.', '10', '10 times'],\n ['New Orleans', 'New Orleans', 'New Orleans'],\n ['1985', '1985', '1985'],\n ['Florida legislature', 'the Florida legislature', 'Florida legislature'],\n ['May 21, 2013', 'May 21, 2013', 'May 21, 2013,'],\n ['NFL owners', 'NFL owners', 'NFL owners'],\n ['2014', 'in 2014', '2014'],\n ['$1.2 billion', '$1.2 billion', '$1.2 billion'],\n ['San Diego', 'San Diego', 'San Diego'],\n ['Boston', 'in Boston', 'May 21, 2013'],\n ['May 21, 2013', 'May 21, 2013', 'May 21, 2013,'],\n ['$1.2 billion', '$1.2 billion', '$1.2 billion'],\n ['Super Bowl XXXVII', 'Super Bowl XXXVII', 'XXXVII'],\n ['San Diego', 'San Diego', 'San Diego'],\n ['2013', '2013', '2013'],\n ['2014', '2014', '2014'],\n ['$1.2 billion', '$1.2 billion', '$1.2 billion'],\n ['1985', '1985', '1985'],\n ['Super Bowl XXXVII', 'Super Bowl XXXVII', 'XXXVII'],\n ['May 21, 2013', 'May 21, 2013,', 'May 21, 2013'],\n ['2014', 'in 2014', '2014'],\n ['2003', 'in 2003', '2003'],\n ['Boston', 'in Boston', 'Boston'],\n ['May 21, 2013', 'May 21, 2013', 'May 21, 2013'],\n ['2014.', 'in 2014', '2014'],\n ['$1.2 billion', '$1.2 billion', '$1.2 billion'],\n ['2003.', '2003', '2003'],\n ['John Fox', 'John Fox', 'Fox'],\n ['ten', 'ten', 'six'],\n ['six', 'six', 'six'],\n ['Carolina Panthers', 'The Carolina Panthers', 'Panthers'],\n ['Super Bowl XLVIII', 'Super Bowl XLVIII', 'XLVIII'],\n ['John Fox', 'John Fox', 'Fox'],\n ['eight', 'eight', 'eight'],\n ['ten', 'ten', 'ten'],\n ['Super Bowl XXXVIII', 'Super Bowl XXXVIII', 'XXXVIII'],\n ['six', 'ten', 'ten'],\n ['number one', 'number one', 'one'],\n ['number one', 'number one', 'one'],\n ['Super Bowl XLVIII', 'Super Bowl XLVIII', 'Super Bowl XLVIII'],\n ['Super Bowl XXXVIII.', 'Super Bowl XXXVIII', 'Super Bowl XXXVIII'],\n ['six', 'ten', 'ten'],\n ['one', '1', '1'],\n ['four', 'four', 'four'],\n ['John Fox', 'John Fox', 'John Fox'],\n ['DeAngelo Williams', 'DeAngelo Williams', 'Williams'],\n ['Kelvin Benjamin', 'Kelvin Benjamin', 'Benjamin'],\n ['7', 'seventh', 'seventh'],\n ['1978', '1978', '1978'],\n ['Carolina Panthers', 'the Panthers', 'Carolina'],\n ['Ten', 'Ten', 'Ten'],\n ['eight', 'eight', 'eight'],\n ['Kelvin Benjamin', 'Kelvin Benjamin', 'Benjamin'],\n ['1978', '1978', '1978'],\n ['2009', '2009', '2009'],\n ['2011', '2011', '2011'],\n ['torn ACL', 'a torn ACL', 'torn ACL'],\n ['Kelvin Benjamin', 'Kelvin Benjamin', 'Benjamin'],\n ['DeAngelo Williams', 'DeAngelo Williams', 'Williams'],\n ['1978', '1978', '1978'],\n ['Ten', 'Ten', 'Ten'],\n ['Carolina Panthers', 'the Panthers', 'Carolina'],\n ['1978.', '1978', '1978'],\n ['Carolina Panthers', 'the Panthers', 'Carolina'],\n ['Ten', 'Ten', 'Ten'],\n ['six', 'six', 'six'],\n ['45', '45', '45'],\n ['10', '10', '10'],\n ['27', '27', '27'],\n ['Greg Olsen', 'Greg Olsen', 'Olsen'],\n ['45', '45', '45'],\n ['99.4', '99.4', '99.4.'],\n ['77 passes', '77', '77'],\n ['receivers', 'receivers', 'receivers'],\n ['Jonathan Stewart', 'Jonathan Stewart', 'Jonathan Stewart'],\n ['six', 'six', 'six'],\n ['Cam Newton', 'Cam Newton', 'Cam Newton'],\n ['3,837', '3,837', '3,837'],\n ['45', '45', '45'],\n ['six', 'six', 'six'],\n ['500', '500', '500'],\n ['3,837', '3,837', '3,837'],\n ['45', '45', '45'],\n ['99.4.', '99.4', '99.4.'],\n ['39', '39', '39'],\n ['308', '308', '308'],\n ['136', '136', '136'],\n ['118', '118', '118'],\n ['four', 'four', 'four'],\n ['Kawann Short', 'Kawann Short', 'Short'],\n ['24', '24', '24'],\n ['Kawann Short', 'Kawann Short', 'Short'],\n ['four', 'four', 'four'],\n ['four', '5½', 'four'],\n ['Kurt Coleman', 'Kurt Coleman', 'Coleman'],\n ['24', '24', '24'],\n ['Kony Ealy', 'Kony Ealy'],\n ['Luke Kuechly.', 'Luke Kuechly', 'Short'],\n ['two.', 'two', '24'],\n ['Gary Kubiak', 'Gary Kubiak', 'Kubiak'],\n ['Brock Osweiler', 'Brock Osweiler', 'Osweiler'],\n ['Indianapolis Colts', 'the Indianapolis Colts', 'Colts'],\n ['San Diego Chargers', 'San Diego Chargers', 'Chargers'],\n ['Wade Phillips', 'Wade Phillips', 'Phillips'],\n ['four', 'four', 'four'],\n ['Gary Kubiak', 'Gary Kubiak', 'Kubiak'],\n ['Indianapolis Colts', 'the Indianapolis Colts', '1998'],\n ['39', '39', '39'],\n ['plantar fasciitis', 'a partial tear of the plantar fasciitis'],\n ['Gary Kubiak', 'Gary Kubiak', 'Kubiak'],\n ['Peyton Manning', 'Peyton Manning', 'Manning'],\n ['a plantar fasciitis injury',\n  'a plantar fasciitis injury',\n  'plantar fasciitis'],\n ['39', '39', '39'],\n ['four', '4', '4'],\n ['John Fox', 'John Fox', 'Fox'],\n ['Peyton Manning', 'Peyton Manning', 'Manning'],\n ['Gary Kubiak', 'Gary Kubiak', 'Kubiak'],\n ['left foot.', 'left', 'left'],\n ['Wade Phillips', 'Wade Phillips', 'Phillips'],\n ['67.9', '67.9', '67.9'],\n ['17', '17', '17'],\n ['Demaryius Thomas', 'Demaryius Thomas', 'Thomas'],\n ['C. J. Anderson', 'C. J. Anderson', 'Anderson'],\n ['10', '10', '10'],\n ['67.9', '67.9', '67.9'],\n ['2,249', '2,249', '2,249'],\n ['nine', '17', 'career-low 67.9 passer rating,'],\n ['Demaryius Thomas', 'Demaryius Thomas', 'Thomas'],\n ['receiver', 'receiver', 'Thomas'],\n ['67.9', '67.9', '67.9'],\n ['17', '17', '17'],\n ['Demaryius Thomas', 'Demaryius Thomas', 'Thomas'],\n ['5', 'five', 'five'],\n ['67.9', '67.9', '67.9'],\n ['17', '17', '17'],\n ['Emmanuel Sanders', 'Emmanuel Sanders', 'Sanders'],\n ['C. J. Anderson', 'C. J. Anderson', 'Anderson'],\n ['4.7', '4.7', '4.7'],\n ['4,530', '4,530', '4,530'],\n ['5½', '5½', '5½'],\n ['Brandon Marshall', 'Brandon Marshall', 'Marshall'],\n ['three', 'three', 'three'],\n ['Linebacker', 'Linebacker', 'Linebacker'],\n ['Linebacker', 'Linebacker', 'Linebacker'],\n ['Defensive ends', 'Defensive ends', 'Defensive ends'],\n ['296', '296', '296'],\n ['Von Miller', 'Von Miller', 'Miller'],\n ['Brandon Marshall', 'Brandon Marshall', 'Marshall'],\n ['three.', 'three', 'three'],\n ['Von Miller', 'Von Miller', 'Miller'],\n ['Linebacker Brandon Marshall', 'Brandon Marshall', 'Marshall'],\n ['Derek Wolfe and Malik Jackson', 'Derek Wolfe and Malik Jackson'],\n ['Seattle Seahawks', 'the Seattle Seahawks', 'Seahawks'],\n ['Arizona Cardinals', 'Arizona Cardinals', 'Cardinals'],\n ['487', '487', '487'],\n ['seven', 'seven', 'seven'],\n ['31–24', '31–24', '31–24'],\n ['Seattle Seahawks', 'the Seattle Seahawks', 'Seahawks'],\n ['31–24', '31–24', '31–24,'],\n ['487', '487', '487'],\n ['Seattle Seahawks', 'the Seattle Seahawks', 'Seahawks'],\n ['Arizona Cardinals', 'the Arizona Cardinals', 'Cardinals'],\n ['seven', 'seven', 'seven'],\n ['Seattle Seahawks', 'the Seattle Seahawks', 'Seahawks'],\n ['49–15', '49–15', '49–15,'],\n ['Arizona Cardinals', 'the Seattle Seahawks', 'Cardinals'],\n ['487', '487'],\n ['Pittsburgh Steelers', 'the Pittsburgh Steelers', 'Steelers'],\n ['11', '11', '11'],\n ['New England Patriots', 'New England Patriots', 'Patriots'],\n ['20–18', '20–18', '20–18,'],\n ['17 seconds', '17 seconds', '17'],\n ['Broncos', 'The Broncos', 'Broncos'],\n ['23–16', '23–16', ', 23–16,'],\n ['New England Patriots', 'New England Patriots', 'Patriots'],\n ['17', '17 seconds', '17'],\n ['Manning', 'Manning'],\n ['Pittsburgh Steelers', 'the Pittsburgh Steelers', 'Steelers'],\n ['11', '11', '11'],\n ['New England Patriots', 'New England Patriots', 'Patriots'],\n ['Pittsburgh Steelers', 'Pittsburgh Steelers', 'Steelers'],\n ['New England Patriots', 'New England Patriots', 'Patriots'],\n ['17', '17', '17'],\n ['Thomas Davis', 'Thomas Davis,', 'Davis'],\n ['a broken arm', 'a broken arm', 'broken arm'],\n ['three', 'three', 'three'],\n ['11', '11', '11'],\n ['ACL tears', 'ACL tears', 'ACL'],\n ['arm', 'arm', 'arm'],\n ['11', '11', '11'],\n ['Super Bowl', 'the Super Bowl', 'Super Bowl'],\n ['three', 'three', 'three'],\n ['broken arm', 'a broken arm', 'broken arm'],\n ['11', '11', '11'],\n ['Thomas Davis', 'Thomas Davis', 'Davis'],\n ['39', '39', '39', '39'],\n ['John Elway', 'John Elway', 'Elway', 'Elway'],\n ['38', '38', '38', '38'],\n ['Executive Vice President of Football Operations and General Manager',\n  'Executive Vice President of Football Operations and General Manager',\n  'Executive Vice President of Football Operations and General Manager.',\n  'Executive Vice President of Football Operations and General Manager.'],\n ['Broncos', 'the Broncos', 'Broncos', 'Broncos'],\n ['Broncos', 'the Broncos', 'Broncos', 'Broncos'],\n ['John Elway', 'John Elway', 'Elway', 'Elway'],\n ['38', '38', '38', '38'],\n ['Peyton Manning', 'Peyton Manning', 'Manning', 'Manning'],\n ['two', 'two', 'two', 'two'],\n ['two', 'two', 'two', 'two'],\n ['Peyton Manning', 'Peyton Manning', 'Manning', 'Manning'],\n ['John Elway', 'John Elway', 'Elway', 'Elway'],\n ['Super Bowl XXXIII', 'Super Bowl XXXIII', 'XXXIII', 'XXXIII'],\n ['Peyton Manning', 'Peyton Manning', 'Manning', 'Manning'],\n ['39.', '39', '39', '39'],\n ['John Elway', 'John Elway', 'Elway', 'Elway'],\n ['1998', '1998', '1998'],\n ['2011', '2011', '2011'],\n ['26', '26', '26'],\n ['13 years and 48 days', '13 years and 48 days', '13 years'],\n ['Von Miller', 'Von Miller', 'Miller'],\n ['Manning', 'Manning', 'Manning'],\n ['Newton', 'Newton', 'Newton'],\n ['26', '26', '26'],\n ['quarterback', 'quarterbacks', 'quarterback'],\n ['1998', '1998', '1998'],\n ['2011', '2011', '2011'],\n ['Von Miller', 'Von Miller', 'Miller'],\n ['2011.', '2011', '2011'],\n ['26', '26', '26'],\n ['13 years and 48 days', '13 years and 48 days', '13 years and 48 days'],\n ['Super Bowl XX', 'Super Bowl XX', 'XX'],\n ['Chicago Bears', 'the Chicago Bears', 'Bears'],\n ['linebacker', 'linebacker', 'linebacker'],\n ['Elway', 'Elway', 'Elway'],\n ['Broncos', 'the Broncos', 'Broncos'],\n ['linebacker', 'linebacker', 'linebacker'],\n ['Elway', 'Elway', 'Elway'],\n ['Rivera', 'Rivera', 'Rivera'],\n ['Super Bowl XX', 'Super Bowl XX', 'XX'],\n ['Justin Tucker', 'Justin Tucker', 'Tucker'],\n ['Bermuda 419', 'Bermuda 419', 'hybrid Bermuda 419'],\n ['Ed Mangan', 'Ed Mangan', 'Mangan'],\n ['Baltimore Ravens', 'Baltimore Ravens', 'Ravens'],\n ['kicker', 'kicker', 'kicker'],\n ['Justin Tucker', 'Justin Tucker', 'Tucker'],\n ['kicker', 'kicker', 'kicker'],\n ['hybrid Bermuda 419 turf', 'Bermuda 419 turf', 'hybrid Bermuda 419'],\n ['Justin Tucker', 'Justin Tucker', 'Tucker'],\n ['a new playing surface', 're-sodded', 're-sodded'],\n ['a hybrid Bermuda 419 turf.', 'Bermuda 419 turf', 'hybrid Bermuda 419 turf'],\n ['their cleats', 'cleats', 'cleats'],\n ['Justin Tucker', 'Tucker'],\n ['natural grass', 'natural grass', 'grass'],\n ['Broncos', 'the Broncos', 'Broncos'],\n ['34–19', '34–19', '34–19'],\n ['Atlanta Falcons', 'the Atlanta Falcons', 'Falcons'],\n ['white', 'white', 'white'],\n ['Super Bowl XXXIII', 'Super Bowl XXXIII', 'Super Bowl XXXIII'],\n ['Super Bowl XXXIII', 'Super Bowl XXXIII', 'Super Bowl XXXIII'],\n ['34–19', '34–19', '34–19'],\n ['Atlanta Falcons', 'the Atlanta Falcons', 'Falcons'],\n ['white', 'matching white jerseys', 'white'],\n ['road white jerseys', 'matching white', 'white'],\n ['Pittsburgh Steelers', 'the Pittsburgh Steelers', 'Steelers'],\n ['Super Bowl XXXIII', 'Super Bowl XXXIII', 'XXXIII'],\n ['blue', 'blue', 'white'],\n ['orange', 'orange', 'orange'],\n ['black jerseys with silver pants.',\n  'black jerseys with silver pants',\n  'black'],\n ['San Jose State', 'San Jose State', 'San Jose State'],\n ['Stanford University', 'Stanford University', 'Stanford'],\n ['San Jose', 'San Jose', 'San Jose'],\n ['Santa Clara', 'Santa Clara', 'Santa Clara'],\n ['San Jose Marriott',\n  'the San Jose Marriott',\n  'San Jose State practice facility and stayed at the San Jose Marriott.'],\n ['Santa Clara Marriott', 'the San Jose Marriott', 'Marriott'],\n ['San Jose State practice facility',\n  'the San Jose State practice facility',\n  'San Jose State'],\n ['Stanford University', 'at Stanford University', 'Stanford'],\n ['San Jose State practice facility',\n  'the San Jose State practice facility',\n  'San Jose State'],\n ['San Jose Marriott.', 'the San Jose Marriott', 'San Jose Marriott'],\n ['Stanford University', 'at Stanford University', 'Stanford'],\n ['Santa Clara Marriott.',\n  'the Santa Clara Marriott',\n  'Santa Clara Marriott.'],\n ['San Jose', 'the San Jose State practice facility', 'San Jose State'],\n ['San Jose Marriott.', 'the San Jose Marriott', 'San Jose Marriott.'],\n ['Stanford University', 'at Stanford University', 'Stanford'],\n ['Santa Clara Marriott.',\n  'the Santa Clara Marriott',\n  'Santa Clara Marriott.'],\n ['June 4, 2014', 'On June 4, 2014', '2014'],\n ['Super Bowl V', 'Super Bowl V', 'V'],\n ['Jaime Weston', 'Jaime Weston', 'Weston'],\n ['Super Bowl XLV', 'Super Bowl XLV', 'V'],\n ['Vince Lombardi', 'Vince Lombardi Trophy', 'Lombardi'],\n ['2014', '2014', '2014'],\n ['Super Bowl LI', 'LI', 'LI'],\n ['L', 'L', 'L'],\n ['gold', 'gold', 'gold'],\n ['June 4, 2014', 'On June 4, 2014', '2014'],\n ['Arabic numerals', 'Arabic numerals', 'Arabic'],\n ['L.', 'L', 'L'],\n ['gold', 'gold', 'gold'],\n ['Super Bowl LI.', 'Super Bowl LI', 'Super Bowl LI'],\n ['Arabic', 'Arabic numerals', 'Arabic'],\n ['LI.', 'LI', 'LI'],\n ['gold', 'gold', 'gold'],\n ['week 7', '2015', 'week 7,'],\n ['50', '50-yard line', '50'],\n ['gold', 'gold', 'gold'],\n ['gold', 'gold', 'Gold'],\n ['Golden Super Bowl', 'the \"Golden Super Bowl\"', 'Golden Super Bowl'],\n ['Gold footballs', 'Gold footballs', 'Gold footballs'],\n ['the 50-yard line', 'the 50', '50'],\n ['gold', 'gold', 'gold'],\n ['Moscone Center', 'the Moscone Center', 'Moscone Center'],\n ['San Francisco', 'San Francisco', 'San Francisco'],\n ['Ed Lee', 'Ed Lee', 'Lee'],\n ['Jane Kim', 'Jane Kim', 'Kim'],\n ['January 30', 'January 30', 'January 30'],\n ['1 million', 'More than 1 million', '1 million'],\n ['Ed Lee', 'Ed Lee', 'Lee'],\n ['Moscone Center', 'the Moscone Center', 'Moscone Center'],\n ['Super Bowl City', 'Super Bowl City', 'Super Bowl City'],\n ['Moscone Center', 'at the Moscone Center', 'Moscone Center'],\n ['Super Bowl City', 'Super Bowl City\" opened', '\"Super Bowl City'],\n ['Ed Lee', 'Ed Lee', 'Lee'],\n ['Super Bowl City', '\"Super Bowl City\"', 'Super Bowl City'],\n ['More than 1 million', 'More than 1 million', '1 million'],\n ['mayor Ed Lee', 'Ed Lee', 'mayor Ed Lee'],\n ['$5 million.', '0', '$5 million'],\n ['The annual NFL Experience', 'The annual NFL Experience', 'NFL Experience'],\n ['Santa Clara University',\n  'Santa Clara University',\n  'Santa Clara University'],\n ['$2 million', '$2 million', '$2 million'],\n ['a week', 'a week', 'week'],\n ['$2 million', '$2 million', '$2 million'],\n ['pep rally', 'pep', 'pep'],\n ['city council', 'the city council', 'city council'],\n ['Bellomy Field', 'Bellomy Field', 'Santa Clara Convention Center'],\n ['A professional fundraiser',\n  'A professional fundraiser',\n  'professional fundraiser'],\n ['city council', 'the city council', 'city council'],\n ['$2 million', '$2 million', '$2 million'],\n ['city council', 'the city council', 'city council'],\n ['Monday', 'February 1, 2016', 'Monday'],\n ['Tuesday', 'Tuesday afternoon prior to the game', 'Tuesday'],\n ['SAP Center', 'SAP Center', 'SAP Center'],\n ['San Jose', 'San Jose', 'San Jose.'],\n ['the Golden Gate Bridge', 'the Golden Gate Bridge', 'Golden Gate Bridge.'],\n ['Tuesday', 'Tuesday afternoon prior to the game', 'Tuesday'],\n ['Monday', 'Monday', 'Monday'],\n ['Super Bowl Opening Night',\n  'Super Bowl Opening Night',\n  'Super Bowl Opening Night.'],\n ['SAP Center', 'SAP Center', 'SAP Center'],\n ['San Jose', 'San Jose', 'San Jose.'],\n ['the Tuesday afternoon prior to the game',\n  'Tuesday afternoon prior to the game',\n  'Tuesday'],\n ['Super Bowl Opening Night.',\n  'Super Bowl Opening Night',\n  'Super Bowl Opening Night.'],\n ['SAP Center in San Jose.', 'at SAP Center in San Jose', 'San Jose'],\n ['the Golden Gate Bridge.', 'the Golden Gate Bridge', 'Golden Gate Bridge.'],\n ['Monday', 'Monday', 'Monday'],\n ['Super Bowl Opening Night.',\n  'Super Bowl Opening Night',\n  'Super Bowl Opening Night'],\n ['SAP Center in San Jose.', 'SAP Center', 'SAP Center'],\n ['Golden Gate Bridge.', 'the Golden Gate', 'Golden Gate Bridge.'],\n ['February 1, 2016', 'February 1, 2016', 'February 1, 2016'],\n ['Business Connect', 'Business Connect', 'Business Connect'],\n ['$40 million', 'over $40 million', '$40 million'],\n ['Dignity Health', 'Dignity Health', 'Dignity'],\n ['Gap', 'Gap', 'Gap'],\n ['Chevron', 'Chevron', 'Chevron'],\n ['Super Bowl 50 Host Committee',\n  'the Super Bowl 50 Host Committee',\n  'Super Bowl 50 Host Committee'],\n ['over $40 million', 'over $40 million', 'over $40 million'],\n ['sponsors', 'through sponsors', 'sponsors'],\n ['Business Connect', 'Business Connect', 'Business Connect'],\n ['Business Connect', 'Business Connect', 'Business Connect'],\n ['over $40 million', 'over $40 million', '$40 million'],\n ['25', '25 percent', '25'],\n ['the 50 fund', 'the 50 fund', '50 fund'],\n ['25 percent', '25 percent', '25'],\n ['50 fund', 'the 50 fund', '50 fund'],\n ['the most giving Super Bowl ever', 'giving Super Bowl', 'giving'],\n ['25 percent', '25 percent of all money', '25'],\n ['the 50 fund', 'the 50 fund', '50 fund'],\n ['25 percent', '25 percent', '25'],\n ['50 fund', 'the 50 fund', '50 fund'],\n ['Vince Lombardi', 'Vince Lombardi', 'Lombardi'],\n ['18', '18', '18'],\n ['66', '66 lb', '33'],\n ['Tiffany & Co.', 'Tiffany & Co', 'Tiffany & Co.'],\n ['Tiffany & Co.', 'Tiffany & Co', 'Tiffany & Co'],\n ['Vince Lombardi Trophy',\n  'the Vince Lombardi Trophy',\n  'Vince Lombardi Trophy'],\n ['18-karat gold-plated', '18-karat gold', 'gold'],\n ['Tiffany & Co', 'Tiffany & Co', 'Tiffany & Co'],\n ['the Vince Lombardi Trophy',\n  'the Vince Lombardi Trophy',\n  'Vince Lombardi Trophy'],\n ['Tiffany & Co.', 'Tiffany & Co', 'Tiffany & Co.'],\n ['CBS', 'CBS', 'CBS'],\n ['Phil Simms', 'Phil Simms', 'Phil Simms'],\n ['Tracy Wolfson', 'Tracy Wolfson', 'Tracy Wolfson'],\n ['36', '36', '36'],\n ['5K', '5K', '5K'],\n ['three', 'three', 'three'],\n ['sidelines', 'the sidelines', 'sidelines'],\n ['360-degree', '360', '360'],\n ['5K resolution', '5K', '5K'],\n ['sidelines', 'the sidelines', 'sidelines'],\n ['CBS', 'CBS', 'CBS'],\n ['three', 'three', 'three'],\n ['CBS', 'CBS', 'CBS'],\n ['Jim Nantz and Phil Simms',\n  'Jim Nantz and Phil Simms',\n  'Jim Nantz and Phil Simms'],\n ['Tracy Wolfson and Evan Washburn',\n  'Tracy Wolfson and Evan Washburn',\n  'Tracy Wolfson and Evan Washburn'],\n ['5K', '5K', '5K'],\n ['cameras', 'cameras', 'cameras'],\n ['ESPN Deportes', 'ESPN Deportes', 'ESPN Deportes'],\n ['John Sutcliffe', 'John Sutcliffe', 'Sutcliffe'],\n ['Alvaro Martin', 'Alvaro Martin', 'Alvaro Martin'],\n ['December 28, 2015', 'December 28, 2015', 'December 28, 2015,'],\n ['Spanish', 'Spanish', 'Spanish'],\n ['CBS', 'ESPN Deportes', 'ESPN Deportes'],\n ['ESPN Deportes', 'ESPN Deportes', 'ESPN Deportes'],\n ['John Sutcliffe.', 'John Sutcliffe', 'Sutcliffe'],\n ['ESPN Deportes', 'ESPN Deportes', 'ESPN Deportes'],\n ['Alvaro Martin and Raul Allegre',\n  'Alvaro Martin and Raul Allegre',\n  'Alvaro Martin and Raul Allegre'],\n ['John Sutcliffe.', 'John Sutcliffe', 'Sutcliffe'],\n ['NFL Mobile', 'NFL Mobile', 'NFL Mobile service.'],\n ['WatchESPN', 'WatchESPN', 'WatchESPN'],\n ['CBSSports.com', 'CBSSports.com', 'CBSSports'],\n ['Xbox One', 'Xbox One', 'Xbox One'],\n ['10', '10', '10'],\n ['CBSSports.com', 'CBSSports.com', 'CBSSports.com'],\n ['Xbox One', 'Xbox One', 'Xbox'],\n ['Verizon Wireless customers', 'Verizon', 'Verizon'],\n ['NFL Mobile service', 'the CBS Sports apps', 'NFL'],\n ['Verizon', 'Verizon', 'Verizon'],\n ['NFL Mobile service.', 'NFL Mobile', 'NFL'],\n ['digital streams of the game', 'digital streams', 'digital streams'],\n ['Verizon', 'Verizon', 'Verizon'],\n ['WatchESPN.', 'through WatchESPN', 'WatchESPN'],\n ['The Late Show with Stephen Colbert',\n  'The Late Show with Stephen Colbert',\n  'Late Show with Stephen Colbert'],\n ['The Late Late Show with James Corden',\n  'The Late Late Show with James Corden',\n  'Late Late Show with James Corden'],\n ['The Late Show with Stephen Colbert',\n  'The Late Show with Stephen Colbert',\n  'Colbert'],\n ['The Late Late Show with James Corden',\n  'The Late Late Show with James Corden',\n  'Late Late Show with James Corden'],\n ['The Late Show with Stephen Colbert',\n  'The Late Show with Stephen Colbert',\n  'Late Show with Stephen Colbert'],\n ['late local programming',\n  'late local programming',\n  'late local programming'],\n ['The Late Late Show with James Corden.',\n  'The Late Late Show with James Corden',\n  'The Late Late Show with James Corden.'],\n ['$5,000,000', '$5,000,000', '$5,000,000,'],\n ['Anheuser-Busch InBev', 'Anheuser-Busch InBev', 'Anheuser-Busch InBev'],\n ['Doritos', 'Doritos', 'Doritos'],\n ['20th', 'the 20th', '20th'],\n ['$5,000,000', '$5,000,000', '$5,000,000'],\n ['Anheuser-Busch InBev', 'Anheuser-Busch InBev', 'Anheuser-Busch InBev'],\n ['Doritos', 'Doritos', 'Doritos'],\n ['Nintendo', 'Nintendo', 'Nintendo'],\n ['The Pokémon Company', 'The Pokémon Company', 'The Pokémon Company'],\n ['Anheuser-Busch InBev', 'Anheuser-Busch InBev', 'Anheuser-Busch InBev'],\n ['Doritos', 'Doritos', 'Doritos'],\n ['Anheuser-Busch InBev', 'Anheuser-Busch InBev', 'Anheuser-Busch InBev'],\n ['Doritos', 'Doritos', 'Doritos'],\n ['Crash the Super Bowl', 'Crash the Super Bowl', 'Crash the Super Bowl'],\n ['\"Small Business Big Game\"',\n  'Small Business Big Game',\n  'Small Business Big Game'],\n ['Death Wish Coffee', 'Death Wish Coffee', 'Death Wish Coffee'],\n ['30-second', '30-second', '30-second'],\n ['nine', 'nine', 'nine'],\n ['Death Wish Coffee', 'Death Wish Coffee', 'Death Wish Coffee'],\n ['nine', 'nine', 'nine'],\n ['QuickBooks.', 'QuickBooks', 'QuickBooks'],\n ['Death Wish Coffee', 'Death Wish Coffee', 'Death Wish Coffee'],\n ['ten', 'nine', 'nine'],\n ['QuickBooks.', 'QuickBooks', 'QuickBooks'],\n ['Death Wish Coffee', 'Death Wish Coffee', 'Death Wish Coffee'],\n ['Jason Bourne', 'Jason Bourne', 'Jason Bourne'],\n ['Gods of Egypt', 'Gods of Egypt', 'Gods of Egypt,'],\n ['Teenage Mutant Ninja Turtles: Out of the Shadows',\n  'Teenage Mutant Ninja Turtles: Out of the Shadows',\n  'Teenage Mutant Ninja Turtles: Out of the Shadows'],\n ['Resurgence', 'Resurgence', 'Resurgence'],\n ['Gods of Egypt', 'Gods of Egypt', 'Gods of Egypt'],\n ['Teenage Mutant Ninja Turtles: Out of the Shadows',\n  'Teenage Mutant Ninja Turtles: Out of the Shadows',\n  'Teenage Mutant Ninja Turtles'],\n ['Jason Bourne', 'Jason Bourne', 'Jason Bourne'],\n ['Captain America: Civil War',\n  'Captain America: Civil War',\n  'Captain America: Civil War'],\n ['Independence Day', 'Independence Day', 'Independence Day: Resurgence'],\n ['Universal', 'Universal', 'Universal'],\n ['Fox', 'Fox', 'Disney'],\n ['Westwood One', 'Westwood One', 'Westwood One'],\n ['Kevin Harlan', 'Kevin Harlan', 'Kevin Harlan'],\n ['Jim Gray', 'Jim Gray', '. Jim Gray'],\n ['Boomer Esiason', 'Boomer Esiason', 'Boomer Esiason'],\n ['James Lofton', 'James Lofton', 'James Lofton and Mark Malone'],\n ['two', 'Boomer Esiason and Dan Fouts'],\n ['Kevin Harlan', 'Kevin Harlan', 'Kevin Harlan'],\n ['Westwood One', 'Westwood One', 'Westwood One'],\n ['Kevin Harlan', 'Kevin Harlan', 'Kevin Harlan'],\n ['Jim Gray', 'Jim Gray', 'Jim Gray'],\n ['Kevin Harlan', 'Kevin Harlan', 'Kevin Harlan'],\n ['Boomer Esiason and Dan Fouts',\n  'Boomer Esiason and Dan Fouts',\n  'Boomer Esiason and Dan Fouts'],\n ['James Lofton and Mark Malone',\n  'James Lofton and Mark Malone',\n  'James Lofton and Mark Malone'],\n ['pre-game and halftime coverage.',\n  'halftime',\n  'anchor the pre-game and halftime coverage'],\n ['North America', 'North America', 'North America'],\n ['KRFX', 'KRFX', 'KRFX'],\n ['Dave Logan', 'KOA (850 AM) and KRFX (103.5 FM)', 'Dave Logan'],\n ['1110 AM', '1110 AM', '(1110 AM)'],\n ['Chester, South Carolina', 'Chester', 'Chester, South Carolina'],\n ['Mick Mixon', 'Mick Mixon', 'Mick Mixon'],\n ['Dave Logan', 'Dave Logan', 'Dave Logan'],\n ['Ed McCaffrey', 'Ed McCaffrey', 'Ed McCaffrey'],\n ['WBT', 'WBT (1110 AM)', 'WBT (1110 AM)'],\n ['Mick Mixon', 'Mick Mixon', 'Mick Mixon'],\n ['KOA (850 AM) and KRFX (103.5 FM)',\n  'KOA (850 AM) and KRFX (103.5 FM)',\n  'KOA (850 AM) and KRFX (103.5 FM)'],\n ['WBT-FM (99.3 FM)', 'WBT (1110 AM)', 'WBT-FM'],\n ['BBC Radio 5', 'Radio 5 Live', 'BBC Radio 5 Live'],\n ['5 Live Sports Extra', '5 Live Sports Extra', '5 Live Sports Extra'],\n ['Darren Fletcher', 'Darren Fletcher', 'Darren Fletcher'],\n ['BBC', 'BBC', 'BBC'],\n ['Greg Brady', 'Greg Brady', 'Greg Brady'],\n ['Bart Starr', 'Bart Starr', 'Starr'],\n ['Chuck Howley', 'Chuck Howley', 'Howley'],\n ['Peyton Manning', 'Peyton Manning', 'Manning'],\n ['2001', '2001', '2001'],\n ['Peyton Manning', 'Peyton Manning', 'Manning'],\n ['39', '39', '39'],\n ['Peyton Manning', 'Peyton Manning', 'Manning'],\n ['Harvey Martin', 'Harvey Martin', 'Martin'],\n ['43', '43', '43'],\n ['39', '39', '39'],\n ['Bart Starr', 'Bart Starr', 'Starr'],\n ['Peyton Manning', 'Peyton Manning', 'Manning'],\n ['Harvey Martin', 'Harvey Martin', 'Harvey Martin'],\n ['Six', 'Six', 'Six'],\n ['the national anthem', 'the national anthem', 'national anthem'],\n ['Academy Award', 'Academy Award', 'Academy Award'],\n ['the national anthem', 'the national anthem', 'national anthem'],\n ['American Sign Language',\n  'American Sign Language',\n  'American Sign Language'],\n ['Lady Gaga', 'Lady Gaga', 'Lady Gaga'],\n ['Marlee Matlin', 'Marlee Matlin', 'Marlee Matlin'],\n ['Lady Gaga', 'Lady Gaga', 'Lady Gaga'],\n ['Marlee Matlin', 'Marlee Matlin', 'Marlee Matlin'],\n ['Lady Gaga', 'Lady Gaga', 'Lady Gaga'],\n ['Six', 'Six', 'Six'],\n ['Marlee Matlin', 'Marlee Matlin', 'Marlee Matlin'],\n ['December 3', 'December 3', 'December 3'],\n ['British', 'British', 'British'],\n ['Super Bowl XLVII', 'Super Bowl XLVII', 'XLVII'],\n ['\"Hymn for the Weekend\"', 'Hymn for the Weekend', 'Hymn for the Weekend'],\n ['Super Bowl XLVIII', 'Super Bowl XLVIII', 'XLVIII'],\n ['Coldplay.', 'Coldplay', 'Coldplay'],\n ['Pepsi', 'Pepsi', 'Pepsi'],\n ['\"Hymn for the Weekend\"', 'Hymn for the Weekend', 'Hymn for the Weekend'],\n ['Coldplay.', 'Coldplay', 'Coldplay'],\n ['Beyoncé', 'Beyoncé', 'Beyoncé'],\n ['Hymn for the Weekend', 'Hymn for the Weekend', 'Mars'],\n ['Bruno Mars', 'Bruno Mars', 'Bruno Mars,'],\n ['Denver', 'Denver', 'Denver'],\n ['Andre Caldwell', 'Andre Caldwell', 'Caldwell'],\n ['Ronnie Hillman', 'Ronnie Hillman', 'Hillman'],\n ['Brandon McManus', 'Brandon McManus', 'McManus'],\n ['C. J. Anderson', 'C. J. Anderson', 'Anderson'],\n ['18', '18', '22-yard'],\n ['Shaq Thompson', 'Shaq Thompson', 'Thompson'],\n ['Brandon McManus', 'Brandon McManus', 'McManus'],\n ['a deficit.', 'a deficit', 'deficit'],\n ['Denver', 'Carolina', 'Denver'],\n ['Owen Daniels', 'Owen Daniels', 'Daniels'],\n ['C. J. Anderson', 'C. J. Anderson', 'Anderson'],\n ['Brandon McManus', 'Brandon McManus', 'McManus'],\n ['a deficit.', 'a deficit', 'deficit'],\n ['Mike Carey', 'Mike Carey', 'Carey'],\n ['Cam Newton', 'Cam Newton', 'Newton'],\n ['Von Miller', 'Von Miller', 'Miller'],\n ['Malik Jackson', 'Malik Jackson', 'Jackson'],\n ['Super Bowl XXVIII', 'Super Bowl XXVIII', 'XXVIII'],\n ['Jerricho Cotchery', 'Jerricho Cotchery', 'Cotchery'],\n ['Mike Carey', 'Mike Carey', 'Carey'],\n ['Von Miller', 'Von Miller', 'Miller'],\n ['Malik Jackson', 'Malik Jackson', 'Jackson'],\n ['1993', '1993', '1993'],\n ['Mike Carey', 'Mike Carey', 'Carey'],\n ['Von Miller', 'Von Miller', 'Miller'],\n ['Malik Jackson', 'Malik Jackson', 'Jackson'],\n ['Super Bowl XXVIII', 'the end of the 1993 season', '1993'],\n ['Jonathan Stewart', 'Jonathan Stewart', 'Stewart'],\n ['Brad Nortman', 'Brad Nortman', 'Nortman'],\n ['28', '28', '28'],\n ['61', '61', '61'],\n ['33', '33', '33'],\n ['51', '51', '51'],\n ['Jonathan Stewart', 'Jonathan Stewart', 'Stewart'],\n ['11:28', '11:28', '11:28'],\n ['Jordan Norwood', 'Jordan Norwood', 'Norwood'],\n ['33', '33', '33'],\n ['Jonathan Stewart', 'Jonathan Stewart', 'Stewart'],\n ['field goal', 'field goal', 'field goal'],\n ['Darian Stewart', 'Darian Stewart', 'Stewart'],\n ['linebacker', 'linebacker', 'linebacker'],\n ['Kony Ealy', 'Kony Ealy', 'Ealy'],\n ['Newton', 'Newton', 'Newton'],\n ['DeMarcus Ware', 'DeMarcus Ware', 'Ware'],\n ['Mike Tolbert', 'Mike Tolbert', 'Tolbert'],\n ['Kony Ealy', 'Kony Ealy', 'Ealy'],\n ['19', '19', '19'],\n ['DeMarcus Ware', 'DeMarcus Ware', 'Ware'],\n ['Mike Tolbert', 'Mike Tolbert', 'Tolbert'],\n ['Danny Trevathan', 'Danny Trevathan', 'Stewart'],\n ['Kony Ealy', 'Kony Ealy', 'Ealy'],\n ['punt', 'Newton was sacked', 'sacked'],\n ['DeMarcus Ware', 'DeMarcus Ware', 'Ware'],\n ['Ted Ginn Jr.', 'Ted Ginn Jr', 'Ted Ginn Jr'],\n ['Graham Gano', 'Graham Gano', 'Gano'],\n ['44', '44', '44'],\n ['McManus', 'McManus', 'McManus'],\n ['T. J. Ward', 'T. J. Ward', 'Ward'],\n ['Ted Ginn Jr.', 'Ted Ginn Jr.', 'Ted Ginn Jr'],\n ['the uprights', 'the uprights', 'uprights'],\n ['T. J. Ward.', 'T. J. Ward', 'Ward'],\n ['Trevathan', 'Trevathan', 'Trevathan'],\n ['Ted Ginn Jr.', 'Ted Ginn Jr'],\n ['26-yard line', '26'],\n ['Graham Gano', 'Graham Gano', 'Gano'],\n ['Emmanuel Sanders', 'Emmanuel Sanders', 'Sanders'],\n ['Ealy', 'Ealy', 'Ealy'],\n ['39', '39', '39'],\n ['Devin Funchess', 'Devin Funchess', 'Funchess'],\n ['Stewart', 'Stewart', 'Stewart'],\n ['41-yard line.', '41', '41'],\n ['Ealy', 'Ealy', 'Ealy'],\n ['50-yard line.', 'on the 50-yard line', '50'],\n ['punts.', 'punts', 'punts'],\n ['Ealy', 'Ealy', 'Ealy'],\n ['50-yard line.', '41', '50'],\n ['39-yard', '39', '39'],\n ['three', 'three', 'The next three drives'],\n ['24', 'their own 24', '24'],\n ['Newton', 'Newton', 'Newton'],\n ['Josh Norman', 'Josh Norman', 'Norman'],\n ['Anderson', 'Anderson', 'Anderson'],\n ['Bennie Fowler', 'Bennie Fowler', 'Fowler'],\n ['Miller', 'Miller', 'Miller'],\n ['wards', 'Ward', 'Ward'],\n ['Newton', 'Newton', 'Newton'],\n ['Josh Norman', 'Josh Norman', 'Norman'],\n ['3:08', '3:08', '3:08'],\n ['4:51', '4:51', '4:51'],\n ['Miller', 'Miller', 'Miller'],\n ['wards', 'Ward', 'Ward'],\n ['three', 'three', 'three'],\n ['Anderson', 'Anderson', 'Anderson'],\n ['five', '2½', '2'],\n ['zero', 'zero', 'zero'],\n ['four', 'four', 'four'],\n ['Thomas Davis', 'Thomas Davis', 'Davis'],\n ['one', 'one', 'one'],\n ['one', 'one', 'one'],\n ['zero', 'zero', 'zero'],\n ['Anderson', 'Anderson', 'Anderson'],\n ['Sanders', 'Sanders', 'Sanders'],\n ['Thomas Davis', 'Thomas Davis', 'Davis'],\n ['Sanders', 'Sanders', 'Sanders'],\n ['Anderson', 'Anderson', 'Anderson'],\n ['all four', 'all four', 'four'],\n ['one', 'one', 'one'],\n ['four', 'four', 'four'],\n ['194', '194', '194'],\n ['11', '11', '11'],\n ['Baltimore Ravens', 'the Baltimore Ravens', 'Ravens'],\n ['Jordan Norwood', 'Jordan Norwood', 'Norwood'],\n ['Manning', 'Manning', 'Manning'],\n ['194', '194', '194'],\n ['11', '11', '11'],\n ['Chicago Bears', 'the Chicago Bears', 'Bears'],\n ['Broncos', 'Denver', 'Denver'],\n ['21', '21', '21'],\n ['11', '11', '11'],\n ['The Broncos', 'Denver', 'Denver'],\n ['Chicago Bears', 'the Chicago Bears', 'Bears'],\n ['two', 'two', 'two'],\n ['Nobel Prize', 'Nobel Prize', 'Nobel Prize'],\n ['1745', '1745', '1745'],\n ['Maria Skłodowska-Curie',\n  'Maria Skłodowska-Curie',\n  'Maria Skłodowska-Curie'],\n ['Famous musicians', 'musicians', 'Famous musicians'],\n ['seven months old', 'seven months old', 'seven months old'],\n ['100', 'over 100', '100'],\n ['Krasiński Palace Garden',\n  'Krasiński Palace Garden',\n  'Krasiński Palace Garden'],\n ['The Saxon Garden', 'Saxon Garden', 'The Saxon Garden'],\n ['east end', 'east', 'east'],\n ['Łazienki', 'Łazienki Park', 'Łazienki Park'],\n ['15 kilometres', '15 kilometres', 'About 15 kilometres'],\n ['otter, beaver and hundreds of bird species',\n  'otter, beaver and hundreds of bird species',\n  'otter, beaver and hundreds of bird species.'],\n ['13', '13', '13'],\n ['several', 'several', 'several'],\n ['to clean them', 'clean them', 'to clean them of plants and sediments'],\n ['city', 'Demographically', 'city'],\n ['833,500', '833,500', '833,500'],\n ['around 34%', '34', '34%'],\n ['Jewish', 'Jewish', 'Jewish'],\n ['migration and urbanisation',\n  'internal migration and urbanisation',\n  'internal migration and urbanisation.'],\n ['Warsaw University of Technology',\n  'Warsaw University of Technology',\n  'Warsaw University of Technology'],\n ['2,000', '2,000', '2,000'],\n ['Medical University of Warsaw',\n  'National Defence University',\n  'Medical University of Warsaw'],\n ['1816', '1816', '1816'],\n ['Fryderyk Chopin University of Music',\n  'Fryderyk Chopin University of Music',\n  'Fryderyk Chopin University of Music'],\n ['1816', '1816', '1816'],\n ['over two million', 'over two million', 'over two million'],\n ['architects', 'architects', 'architects'],\n ['Irena Bajerska', 'Irena Bajerska', 'Irena Bajerska'],\n ['10,000 m2', 'more than 10,000 m2', '10,000 m2'],\n ['infrastructure', 'infrastructure', 'infrastructure'],\n ['Three-Year Plan', 'Three-Year Plan', 'Three-Year Plan'],\n ['solid economic growth', 'solid economic growth', 'economic growth'],\n ['improved markedly', 'improved markedly', 'improved markedly'],\n ['Warsaw', 'Warsaw', 'Warsaw'],\n [\"Children's Memorial Health Institute\",\n  \"Children's Memorial Health Institute\",\n  \"Children's Memorial Health Institute\"],\n ['Maria Skłodowska-Curie Institute of Oncology',\n  'Maria Skłodowska-Curie Institute of Oncology',\n  'Maria Skłodowska-Curie Institute of Oncology'],\n ['700', '700', '700'],\n ['developed', 'developed', 'developed'],\n ['musical', 'musical', 'musical'],\n ['events and festivals', 'events and festivals', 'events and festivals'],\n ['in the Palace of Culture and Science',\n  'Palace of Culture and Science',\n  'Palace of Culture and Science'],\n ['Warsaw', 'Warsaw', 'Warsaw'],\n ['festivals', 'events'],\n ['Ogród Saski', 'Ogród Saski', 'Ogród Saski'],\n ['Saxon Garden', 'the Saxon Garden', 'Saxon Garden'],\n ['1870 to 1939', '1870 to 1939', '1870 to 1939'],\n ['Momus', 'Momus', 'Momus'],\n ['Wojciech Bogusławski Theatre',\n  'Wojciech Bogusławski Theatre',\n  'Wojciech Bogusławski Theatre'],\n ['Wianki', 'Wianki', 'Wianki'],\n ['thousands', 'thousands', 'thousands'],\n ['Midsummer’s Night', 'Midsummer’s Night', 'Midsummer’s Night'],\n ['when they would be married',\n  'when they would be married, and to whom',\n  'when they would be married,'],\n ['the fern', 'fern', 'fern'],\n ['art posters', 'art posters', 'art posters'],\n ['60', '60', '60'],\n ['prestigious', 'prestigious', 'prestigious'],\n ['some paintings', 'paintings', 'paintings'],\n ['arms', 'history of arms', 'arms'],\n ['Warsaw Uprising Museum',\n  'Warsaw Uprising Museum',\n  'Warsaw Uprising Museum'],\n ['Katyń', 'Katyń Museum', 'Katyń Museum'],\n ['stereoscopic', 'stereoscopic theatre', 'stereoscopic'],\n ['Museum of Independence',\n  'Museum of Independence',\n  'Museum of Independence'],\n ['60', '60', '60'],\n ['Royal Ujazdów Castle', 'Royal Ujazdów Castle', 'Royal Ujazdów'],\n ['about 500', '500', 'about 500'],\n ['Zachęta National Gallery of Art',\n  'Zachęta National Gallery of Art',\n  'Zachęta National Gallery of Art'],\n ['Polish and international artists',\n  'modern art by Polish and international artists',\n  'Polish and international artists a'],\n ['last weekend of September',\n  'last weekend of September',\n  'last weekend of September'],\n ['Polonia Warsaw', 'Polonia Warsaw', 'Polonia Warsaw'],\n ['1946', '1946', '1946'],\n ['twice', 'twice', 'twice'],\n ['at Konwiktorska Street', 'Konwiktorska Street', 'Konwiktorska Street'],\n ['disastrous financial situation',\n  'their disastrous financial situation',\n  'disastrous financial situation.'],\n ['syrenka', 'syrenka', 'syrenka'],\n ['The mermaid', 'mermaid', 'The mermaid'],\n ['since at least the mid-14th century',\n  'mid-14th century',\n  'at least the mid-14th century'],\n ['1390', '1390', '1390'],\n ['a sword', 'sword', 'sword'],\n ['legend', 'The best-known legend', 'legend'],\n ['depths of the oceans and seas',\n  'depths of the oceans and seas',\n  'depths of the oceans and seas'],\n ['coast of Denmark', 'coast of Denmark', 'coast of Denmark'],\n ['Warszowa', 'village of Warszowa', 'Warszowa'],\n ['captured', 'captured the mermaid', 'captured'],\n ['Warsaw', 'Warsaw', 'Warsaw'],\n ['1916', '1916', '1916'],\n ['the Art Deco style',\n  'Art Deco style in painting and art',\n  'Art Deco style'],\n ['poet', 'poet', 'poet'],\n ['Isaac Bashevis Singer', 'Isaac Bashevis Singer', 'Isaac Bashevis Singer'],\n ['Economist Intelligence Unit',\n  'Economist Intelligence Unit',\n  'Economist Intelligence Unit'],\n ['2012', '2012', '2012'],\n ['wide variety of industries',\n  'FMCG manufacturing, metal processing, steel and electronic manufacturing and food processing',\n  'FMCG manufacturing'],\n ['Stock', 'Warsaw Stock Exchange', 'Warsaw Stock Exchange'],\n ['Frontex', 'Frontex', 'Frontex'],\n ['1313', '1313', '1313'],\n ['Kraków', 'Kraków', 'Kraków'],\n ['1596', '1596', '1596'],\n ['King Sigismund III Vasa',\n  'King Sigismund III Vasa',\n  'King Sigismund III Vasa'],\n ['survived many wars, conflicts and invasions',\n  'it has survived many wars, conflicts and invasions',\n  'because it has survived many wars, conflicts and invasions throughout its long history'],\n ['Roman Catholic', 'Roman Catholic', 'Roman Catholic'],\n ['Polish Academy of Sciences',\n  'Polish Academy of Sciences',\n  'Polish Academy of Sciences'],\n ['a UNESCO World Heritage Site',\n  'UNESCO World Heritage Site',\n  'UNESCO World Heritage Site'],\n ['architectural', 'architectural', 'architectural'],\n ['luxurious parks and royal gardens',\n  'luxurious parks and royal gardens',\n  'luxurious parks and royal gardens'],\n ['Warszawa', 'Warszawa', 'Warszawa'],\n ['belonging to Warsz', 'belonging to Warsz', 'belonging to Warsz'],\n ['12th/13th-century nobleman',\n  'shortened form of the masculine name of Slavic origin Warcisław',\n  'nobleman'],\n ['a village', 'village'],\n ['miasto stołeczne Warszawa',\n  'miasto stołeczne Warszawa',\n  'miasto stołeczne Warszawa'],\n ['Jazdów', 'Jazdów', 'Jazdów'],\n ['The Prince of Płock', 'Prince of Płock', 'Prince of Płock'],\n ['1300', '1300', '1300'],\n ['1413', '1413', '1413'],\n ['1526', '1526', '1526'],\n ['General Sejm', 'General Sejm', 'General Sejm'],\n ['1569', '1569', '1569'],\n ['religious freedom',\n  'religious freedom in the Polish–Lithuanian Commonwealth',\n  'religious freedom'],\n ['Due to its central location', 'its central location', 'central location'],\n ['1596', '1596', '1596'],\n ['until 1796', 'until 1796'],\n ['Prussia', 'Kingdom of Prussia', 'Prussia'],\n [\"Napoleon's\", \"Napoleon's\", \"Napoleon's\"],\n ['1815', '1815', '1815'],\n ['1816', '1816', '1816'],\n ['from 4 August 1915 until November 1918',\n  '4 August 1915 until November 1918',\n  'from 4 August 1915 until November 1918'],\n ['areas controlled by Russia in 1914',\n  'areas controlled by Russia in 1914',\n  'areas controlled by Russia'],\n ['underground leader Piłsudski', 'Piłsudski', 'Piłsudski'],\n ['1920', '1920', '1920'],\n ['the Red Army', 'Red Army', 'Red Army'],\n ['September 1939', '1 September 1939', '1 September 1939'],\n ['a German Nazi colonial administration',\n  'German Nazi',\n  'German Nazi colonial administration'],\n ['some 30% of the city', '30%', '30%'],\n ['April 1943', '19 April 1943', '19 April 1943'],\n ['almost a month', 'almost a month', 'almost a month'],\n ['the Red Army', 'Red Army', 'e Red Army'],\n ['Stalin was hostile to the idea of an independent Poland',\n  'Stalin was hostile to the idea of an independent Poland',\n  'Stalin was hostile to the idea of an independent Poland'],\n ['August 1944', 'the Red Army was nearing the city', '1 August 1944'],\n ['63 days', '63', '63 days'],\n ['between 150,000 and 200,000',\n  'between 150,000 and 200,000',\n  'between 150,000 and 200,000'],\n ['\"Bricks for Warsaw\"', 'Bricks for Warsaw', 'Bricks for Warsaw'],\n ['prefabricated', 'prefabricated', 'prefabricated'],\n ['an Eastern Bloc city', 'an Eastern Bloc city'],\n ['Palace of Culture and Science',\n  'Palace of Culture and Science',\n  'Palace of Culture and Science'],\n [\"UNESCO's World Heritage list\",\n  \"UNESCO's World Heritage\",\n  \"UNESCO's World Heritage\"],\n ['John Paul II', 'John Paul II', 'John Paul II'],\n ['growing anti-communist fervor',\n  'anti-communist fervor',\n  'growing anti-communist fervor'],\n ['less than a year', 'less than a year', 'less than a year'],\n ['Victory Square', 'Victory Square', '1979'],\n ['incentive for the democratic changes',\n  'incentive for the democratic changes',\n  'democratic changes'],\n ['about 300', '300', '300'],\n ['325', '325', '325'],\n ['Vistula River', 'Vistula', 'Vistula'],\n ['452.8 ft', '115.7 metres', '115.7 metres'],\n ['at the right bank of the Vistula',\n  'at the right bank of the Vistula, by the eastern border of Warsaw',\n  'by the eastern border'],\n ['two', 'two', 'two'],\n ['Vistula Valley', 'geomorphologic', 'Vistula Valley'],\n ['moraine', 'moraine', 'moraine'],\n ['Vistula River', 'Vistula River', 'Vistula River'],\n ['Warsaw Escarpment', 'Warsaw Escarpment', 'Warsaw Escarpment'],\n ['moraine', 'moraine', 'moraine'],\n ['former flooded terraces',\n  'former flooded terraces',\n  'peat swamps or small ponds'],\n ['valleys', 'valleys and ground depressions', 'valleys'],\n ['plain Vistula terraces', 'highest terrace', 'highest terrace'],\n ['pine', 'pine', 'pine'],\n ['turbulent history of the city',\n  'turbulent history of the city and country',\n  'turbulent history of the city'],\n ['During the Second World War',\n  'Second World War',\n  'During the Second World War'],\n ['After liberation', 'After liberation', 'After liberation'],\n ['Leopold Kronenberg Palace',\n  'Leopold Kronenberg Palace',\n  'Leopold Kronenberg Palace'],\n ['typical of Eastern bloc countries',\n  'basic design typical of Eastern bloc countries',\n  'design typical of Eastern bloc countries'],\n ['Gothic', 'Gothic', 'Gothic'],\n ['14th century', '14th century', '14th century'],\n ['Masovian gothic', 'Gothic architecture', 'Masovian gothic'],\n ['Renaissance', 'Renaissance', 'Renaissance'],\n ['mannerist architecture', 'mannerist architecture', 'mannerist'],\n ['17th century', '17th century', '17th century.'],\n ['1688–1692', '1677–1683', '1688–1692'],\n ['rococo', 'rococo', 'rococo'],\n ['neoclassical architecture',\n  'neoclassical architecture',\n  'neoclassical architecture'],\n ['1775–1795', '1696', '1775–1795'],\n ['bourgeois', 'bourgeois', 'bourgeois'],\n ['not restored by the communist authorities',\n  'were not restored',\n  'not restored by the communist authorities after the war'],\n ['socialist realism', 'socialist realism', 'socialist realism'],\n ['Warsaw University of Technology building',\n  'Warsaw University of Technology building',\n  'Warsaw University of Technology'],\n ['the most distinctive buildings',\n  'the most distinctive buildings',\n  'most distinctive buildings'],\n ['many places', 'many places'],\n ['Pawiak', 'Pawiak', 'Pawiak'],\n ['The Warsaw Citadel', 'Warsaw Citadel', 'The Warsaw Citadel'],\n ['children',\n  'children who served as messengers and frontline troops in the Warsaw Uprising',\n  'children'],\n ['Warsaw Uprising Monument',\n  'Warsaw Uprising Monument',\n  'Warsaw Uprising Monument'],\n ['green', 'green', 'green'],\n ...]"
      ]
     },
     "execution_count": 37,
     "metadata": {},
     "output_type": "execute_result"
    }
   ],
   "source": [
    "answerss"
   ]
  },
  {
   "cell_type": "code",
   "execution_count": 10,
   "metadata": {
    "collapsed": false
   },
   "outputs": [],
   "source": [
    ""
   ]
  },
  {
   "cell_type": "code",
   "execution_count": null,
   "metadata": {},
   "outputs": [],
   "source": []
  }
 ],
 "metadata": {
  "kernelspec": {
   "display_name": "Python 2",
   "language": "python",
   "name": "python2"
  },
  "language_info": {
   "codemirror_mode": {
    "name": "ipython",
    "version": 2
   },
   "file_extension": ".py",
   "mimetype": "text/x-python",
   "name": "python",
   "nbconvert_exporter": "python",
   "pygments_lexer": "ipython2",
   "version": "2.7.6"
  }
 },
 "nbformat": 4,
 "nbformat_minor": 0
}
